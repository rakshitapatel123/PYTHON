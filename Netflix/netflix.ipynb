{
 "cells": [
  {
   "cell_type": "markdown",
   "id": "2df0a53f",
   "metadata": {},
   "source": [
    "## N"
   ]
  },
  {
   "cell_type": "code",
   "execution_count": null,
   "id": "eb5caf85",
   "metadata": {},
   "outputs": [],
   "source": [
    "import pandas as pd\n",
    "\n",
    "# Netflix dataset (mini sample)\n",
    "data = {\n",
    "    \"show_id\": [\"s1\", \"s2\", \"s3\", \"s4\", \"s5\"],\n",
    "    \"type\": [\"Movie\", \"TV Show\", \"Movie\", \"Movie\", \"TV Show\"],\n",
    "    \"title\": [\"Inception\", \"Stranger Things\", \"The Irishman\", \"Roma\", \"Dark\"],\n",
    "    \"director\": [\"Christopher Nolan\", None, \"Martin Scorsese\", \"Alfonso Cuarón\", None],\n",
    "    \"country\": [\"United States\", \"United States\", \"United States\", \"Mexico\", \"Germany\"],\n",
    "    \"release_year\": [2010, 2016, 2019, 2018, 2017],\n",
    "    \"rating\": [\"PG-13\", \"TV-14\", \"R\", \"R\", \"TV-MA\"],\n",
    "    \"duration\": [\"148 min\", \"3 Seasons\", \"209 min\", \"135 min\", \"3 Seasons\"],\n",
    "    \"listed_in\": [\n",
    "        \"Sci-Fi & Fantasy, Action\",\n",
    "        \"TV Shows, Horror\",\n",
    "        \"Crime, Drama\",\n",
    "        \"Drama, International Movies\",\n",
    "        \"Thriller, Sci-Fi & Fantasy\"\n",
    "    ]\n",
    "}\n",
    "\n",
    "# Create DataFrame\n",
    "df = pd.DataFrame(data)\n",
    "\n",
    "print(df)\n",
    "df.to_csv(\"netflix.csv\",index = False)\n",
    "df = pd.read_csv(\"netflix.csv\")\n",
    "print(df)\n",
    "print(df.head(2))\n",
    "print()\n",
    "print(df.tail(2))\n",
    "print()\n",
    "print(df.info())\n",
    "print(\"Total Entries:\",df.shape[0])\n",
    "print(\"Total Movies:\",df[df[\"type\"]==\"Movie\"].shape[0])\n",
    "print(\"Total TV Shows:\", df[df[\"type\"]==\"TV Show\"].shape[0])\n",
    "releases_per_year = df[\"release_year\"].value_counts().sort_index()\n",
    "print(releases_per_year)\n",
    "\n",
    "# Genres in List\n",
    "from collections import Counter\n",
    "genres=[]\n",
    "for genre_list in df[\"listed_in\"].dropna():\n",
    "    genres.extend([g.strip()for g in genre_list.split(\",\")])\n",
    "\n",
    "genre_counts = Counter(genres).most_common(10)\n",
    "print(\"Top 10 Genres:\",genre_counts)\n",
    "# Split genres into separate rows\n",
    "genres_series = df[\"listed_in\"].dropna().str.split(\",\").explode().str.strip()\n",
    "\n",
    "# Count genres and get top 10\n",
    "top_genres = genres_series.value_counts().head(10)\n",
    "\n",
    "print(\"Top 10 Genres:\\n\", top_genres)\n",
    "country_content = df[\"country\"].value_counts().head(10)\n",
    "print(\"Top 10 countries producing Netflix content:\\n\", country_content)"
   ]
  }
 ],
 "metadata": {
  "language_info": {
   "name": "python"
  }
 },
 "nbformat": 4,
 "nbformat_minor": 5
}
